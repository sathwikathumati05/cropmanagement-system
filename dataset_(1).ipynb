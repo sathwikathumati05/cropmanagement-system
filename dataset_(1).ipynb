{
  "nbformat": 4,
  "nbformat_minor": 0,
  "metadata": {
    "colab": {
      "provenance": [],
      "include_colab_link": true
    },
    "kernelspec": {
      "name": "python3",
      "display_name": "Python 3"
    },
    "language_info": {
      "name": "python"
    }
  },
  "cells": [
    {
      "cell_type": "markdown",
      "metadata": {
        "id": "view-in-github",
        "colab_type": "text"
      },
      "source": [
        "<a href=\"https://colab.research.google.com/github/sathwikathumati05/cropmanagement-system/blob/main/dataset_(1).ipynb\" target=\"_parent\"><img src=\"https://colab.research.google.com/assets/colab-badge.svg\" alt=\"Open In Colab\"/></a>"
      ]
    },
    {
      "cell_type": "code",
      "execution_count": 2,
      "metadata": {
        "id": "9i9yv2hYnVue",
        "colab": {
          "base_uri": "https://localhost:8080/"
        },
        "outputId": "31225c39-4db7-4458-f2d3-c0f7ffd09d57"
      },
      "outputs": [
        {
          "output_type": "stream",
          "name": "stdout",
          "text": [
            "Data loaded:     N   P   K  temperature   humidity         ph    rainfall    elevation  \\\n",
            "0  83   0  18    18.616243  53.506692   3.237846  259.231858  1747.653421   \n",
            "1  62  22  93    10.331711  26.172273  10.253547  164.638752   163.765837   \n",
            "2   9  63  55     5.055778  74.234192   9.967836  326.728287   472.977687   \n",
            "3  59  41  26    42.680282  12.162952  13.208322  421.587338  3676.731479   \n",
            "4  66   2  10    -6.553443  29.800571  12.641792  292.385076  3533.155816   \n",
            "\n",
            "       slope aspect  water_holding_capacity  wind_speed  solar_radiation  \\\n",
            "0  11.186370  South               18.054481   21.171867       540.550329   \n",
            "1  59.698539   East                1.375326   49.876971       401.616758   \n",
            "2  88.301496   West               80.322260   10.713521       808.051278   \n",
            "3  37.531847  South                0.737539   51.872135       743.594046   \n",
            "4  87.941712   West               85.456789   95.960097       650.214772   \n",
            "\n",
            "  soil_texture        ec         zn     label  \n",
            "0         Clay  0.076580  98.557709  Soybeans  \n",
            "1        Loamy  0.833194  26.151961      Corn  \n",
            "2        Sandy  0.956287  97.323266    Cotton  \n",
            "3        Loamy  0.490377  56.047450      Corn  \n",
            "4         Silt  0.565203  96.727906    Barley  \n"
          ]
        }
      ],
      "source": [
        "import numpy as np\n",
        "import pandas as pd\n",
        "from sklearn.model_selection import train_test_split\n",
        "from sklearn.ensemble import RandomForestClassifier\n",
        "\n",
        "# Load the dataset\n",
        "data = pd.read_csv('//content//dataset.csv')\n",
        "print(\"Data loaded:\", data.head())\n",
        "data = data.dropna()\n",
        "data = data.drop_duplicates()\n",
        "data = data.dropna(subset=['N','P','K','temperature','humidity','ph','rainfall','elevation','slope','aspect','water_holding_capacity','wind_speed','solar_radiation','ec','zn','soil_texture'])\n",
        "data = data.dropna(axis=1)\n",
        "data = data.dropna(axis=1, how='all')\n",
        "from sklearn.preprocessing import LabelEncoder\n",
        "categorical_cols = data.select_dtypes(include=['object']).columns\n",
        "encoder = LabelEncoder()\n",
        "for col in categorical_cols:\n",
        "    data[col] = encoder.fit_transform(data[col])\n",
        "X = data[['N', 'P', 'K', 'temperature', 'humidity', 'ph', 'rainfall','elevation','slope','aspect','water_holding_capacity','wind_speed','solar_radiation','ec','zn','soil_texture']]\n",
        "y = data['label']\n",
        "X_train, X_test, y_train, y_test, = train_test_split(X, y, test_size=0.2, random_state=42)\n",
        "model = RandomForestClassifier()\n",
        "model.fit(X_train, y_train)\n",
        "def predict_dynamically(N, P, K, temperature, humidity, ph, rainfall,elevation,slope,aspect,water_holding_capacity,wind_speed,solar_radiation,ec,zn,soil_texture):\n",
        "  import random\n",
        "  N = random.randint(0, 200)  # Adjust range as needed\n",
        "  P = random.randint(0, 200)\n",
        "  K = random.randint(0, 200)\n",
        "  temperature = random.randint(0, 100)\n",
        "  humidity = random.randint(0, 100)\n",
        "  ph = random.uniform(0, 14)\n",
        "  rainfall = random.randint(0, 100)\n",
        "  elevation = random.randint(0, 100)\n",
        "  slope = random.randint(0, 100)\n",
        "  aspect = random.randint(0, 100)\n",
        "  water_holding_capacity = random.randint(0, 100)\n",
        "  wind_speed = random.randint(0, 100)\n",
        "  solar_radiation = random.randint(0, 100)\n",
        "  ec = random.randint(0, 100)\n",
        "  zn = random.randint(0, 100)\n",
        "  soil_texture = random.randint(0, 100)\n",
        "  input_data = [[N, P, K, temperature, humidity, ph, rainfall,elevation,slope,aspect,water_holding_capacity,wind_speed,solar_radiation,ec,zn,soil_texture]]\n",
        "  prediction = model.predict(input_data)[0]\n",
        "  print(f\"Input values: N={N}, P={P}, K={K},tempeature={temperature},humidity={humidity},ph={ph},rainfall={rainfall},elevation={elevation},slope={slope},aspect={aspect},water_holding_capacity={water_holding_capacity},wind_speed={wind_speed},solar_radiation={solar_radiation},ec={ec},zn={zn},soil_texture={soil_texture}\")\n",
        "  print(f\"Recommended crop: {prediction}\")\n",
        "  return predict_dynamically()\n",
        "def predict_crop(N, P, K, temperature, humidity, ph, rainfall):\n",
        "    input_data = [[N, P, K, temperature, humidity, ph, rainfall]]\n",
        "    print(\"Input data:\", input_data)  # Check input data\n",
        "    prediction = model.predict(input_data)[0]\n",
        "    print(\"Prediction:\", prediction)  # Check if prediction is made\n",
        "    return prediction\n",
        "\n",
        "\n",
        "\n",
        "\n",
        "\n",
        "\n",
        "\n"
      ]
    },
    {
      "cell_type": "code",
      "source": [
        "import pandas as pd\n",
        "from sklearn.model_selection import train_test_split\n",
        "from sklearn.ensemble import RandomForestClassifier\n",
        "import random\n",
        "\n",
        "# Load the dataset (replace with your actual dataset)\n",
        "data = pd.read_csv('//content//dataset.csv')\n",
        "data = data.dropna()\n",
        "data = data.drop_duplicates()\n",
        "data = data.dropna(subset=['N','P','K','temperature','humidity','ph','rainfall','elevation','slope','aspect','water_holding_capacity','wind_speed','solar_radiation','ec','zn','soil_texture'])\n",
        "data = data.dropna(axis=1)\n",
        "data = data.dropna(axis=1, how='all')\n",
        "from sklearn.preprocessing import LabelEncoder\n",
        "categorical_cols = data.select_dtypes(include=['object']).columns\n",
        "encoder = LabelEncoder()\n",
        "for col in categorical_cols:\n",
        "    if col in ['aspect', 'soil_texture']:  # Replace with your ordinal columns\n",
        "        encoder = LabelEncoder()\n",
        "        data[col] = encoder.fit_transform(data[col])\n",
        "\n",
        "\n",
        "# Prepare the data\n",
        "X = data[['N', 'P', 'K', 'temperature', 'humidity', 'ph', 'rainfall','elevation','slope','aspect','water_holding_capacity','wind_speed','solar_radiation','ec','zn','soil_texture']]\n",
        "y = data['label']\n",
        "X_train, X_test, y_train, y_test = train_test_split(X, y, test_size=0.2, random_state=42)\n",
        "\n",
        "# Train the model\n",
        "model = RandomForestClassifier()\n",
        "model.fit(X_train, y_train)\n",
        "\n",
        "# Function to predict crop type without manual input\n",
        "def predict_crop_automatically():\n",
        "    # Generate random values for input features (adjust ranges as needed)\n",
        "    N = random.randint(0, 200)\n",
        "    P = random.randint(0, 200)\n",
        "    K = random.randint(0, 200)\n",
        "    temperature = random.uniform(10, 40)\n",
        "    humidity = random.uniform(20, 90)\n",
        "    ph = random.uniform(5, 8)\n",
        "    rainfall = random.uniform(50, 300)\n",
        "    elevation=random.randint(0, 100)\n",
        "    slope=random.randint(0, 100)\n",
        "    aspect=random.randint(0, 100)\n",
        "    water_holding_capacity=random.randint(0, 100)\n",
        "    wind_speed=random.randint(0, 100)\n",
        "    solar_radiation=random.randint(0, 100)\n",
        "    ec=random.randint(0, 100)\n",
        "    zn=random.randint(0, 100)\n",
        "    soil_texture=random.randint(0, 100)\n",
        "\n",
        "    # Make prediction\n",
        "    input_data = [[N, P, K, temperature, humidity, ph, rainfall,elevation,slope,aspect,water_holding_capacity,wind_speed,solar_radiation,ec,zn,soil_texture]]\n",
        "    prediction = model.predict(input_data)[0]\n",
        "\n",
        "    # Return only the predicted crop type\n",
        "    return prediction\n",
        "\n",
        "# Get the predicted crop type\n",
        "predicted_crop = predict_crop_automatically()\n",
        "print(f\"Recommended crop: {predicted_crop}\")"
      ],
      "metadata": {
        "colab": {
          "base_uri": "https://localhost:8080/"
        },
        "id": "ZowwEQWtYdOQ",
        "outputId": "b9347b15-7840-4c42-c806-19edcfa90a9f"
      },
      "execution_count": 5,
      "outputs": [
        {
          "output_type": "stream",
          "name": "stdout",
          "text": [
            "Recommended crop: Soybeans\n"
          ]
        },
        {
          "output_type": "stream",
          "name": "stderr",
          "text": [
            "/usr/local/lib/python3.10/dist-packages/sklearn/base.py:493: UserWarning: X does not have valid feature names, but RandomForestClassifier was fitted with feature names\n",
            "  warnings.warn(\n"
          ]
        }
      ]
    },
    {
      "cell_type": "code",
      "source": [
        "# prompt: in the above code the crop is giving static but i want the output dynamically\n",
        "\n",
        "import numpy as np\n",
        "import pandas as pd\n",
        "from sklearn.model_selection import train_test_split\n",
        "from sklearn.ensemble import RandomForestClassifier\n",
        "from sklearn.preprocessing import LabelEncoder\n",
        "import random\n",
        "\n",
        "# Load the dataset\n",
        "data = pd.read_csv('//content//dataset.csv')\n",
        "data = data.dropna()\n",
        "data = data.drop_duplicates()\n",
        "data = data.dropna(subset=['N','P','K','temperature','humidity','ph','rainfall','elevation','slope','aspect','water_holding_capacity','wind_speed','solar_radiation','ec','zn','soil_texture'])\n",
        "data = data.dropna(axis=1)\n",
        "data = data.dropna(axis=1, how='all')\n",
        "\n",
        "categorical_cols = data.select_dtypes(include=['object']).columns\n",
        "encoder = LabelEncoder()\n",
        "for col in categorical_cols:\n",
        "    if col in ['aspect', 'soil_texture']:  # Replace with your ordinal columns\n",
        "        encoder = LabelEncoder()\n",
        "        data[col] = encoder.fit_transform(data[col])\n",
        "\n",
        "# Prepare the data\n",
        "X = data[['N', 'P', 'K', 'temperature', 'humidity', 'ph', 'rainfall','elevation','slope','aspect','water_holding_capacity','wind_speed','solar_radiation','ec','zn','soil_texture']]\n",
        "y = data['label']\n",
        "X_train, X_test, y_train, y_test = train_test_split(X, y, test_size=0.2, random_state=42)\n",
        "\n",
        "# Train the model\n",
        "model = RandomForestClassifier()\n",
        "model.fit(X_train, y_train)\n",
        "\n",
        "# Function to predict crop type dynamically\n",
        "def predict_crop_dynamically():\n",
        "    # Generate random values for input features (adjust ranges as needed)\n",
        "    N = random.randint(0, 200)\n",
        "    P = random.randint(0, 200)\n",
        "    K = random.randint(0, 200)\n",
        "    temperature = random.uniform(10, 40)\n",
        "    humidity = random.uniform(20, 90)\n",
        "    ph = random.uniform(5, 8)\n",
        "    rainfall = random.uniform(50, 300)\n",
        "    elevation = random.randint(0, 100)\n",
        "    slope = random.randint(0, 100)\n",
        "    aspect = random.randint(0, 100)\n",
        "    water_holding_capacity = random.randint(0, 100)\n",
        "    wind_speed = random.randint(0, 100)\n",
        "    solar_radiation = random.randint(0, 100)\n",
        "    ec = random.randint(0, 100)\n",
        "    zn = random.randint(0, 100)\n",
        "    soil_texture = random.randint(0, 100)\n",
        "\n",
        "    # Make prediction\n",
        "    input_data = [[N, P, K, temperature, humidity, ph, rainfall, elevation, slope, aspect, water_holding_capacity, wind_speed, solar_radiation, ec, zn, soil_texture]]\n",
        "    prediction = model.predict(input_data)[0]\n",
        "\n",
        "    # Print input values and prediction\n",
        "    print(f\"Input values: N={N}, P={P}, K={K}, temperature={temperature}, humidity={humidity}, ph={ph}, rainfall={rainfall}, elevation={elevation}, slope={slope}, aspect={aspect}, water_holding_capacity={water_holding_capacity}, wind_speed={wind_speed}, solar_radiation={solar_radiation}, ec={ec}, zn={zn}, soil_texture={soil_texture}\")\n",
        "    print(f\"Recommended crop: {prediction}\")\n",
        "\n",
        "# Call the function to make a dynamic prediction\n",
        "predict_crop_dynamically()"
      ],
      "metadata": {
        "colab": {
          "base_uri": "https://localhost:8080/"
        },
        "id": "5DGJzQ6r2sPx",
        "outputId": "b4016c80-478d-4899-9af2-6175ce0382d9"
      },
      "execution_count": 7,
      "outputs": [
        {
          "output_type": "stream",
          "name": "stdout",
          "text": [
            "Input values: N=200, P=93, K=144, temperature=20.00381706586957, humidity=58.26390232728541, ph=7.7099369404207385, rainfall=281.4775326835079, elevation=70, slope=39, aspect=24, water_holding_capacity=18, wind_speed=32, solar_radiation=97, ec=54, zn=90, soil_texture=49\n",
            "Recommended crop: Soybeans\n"
          ]
        },
        {
          "output_type": "stream",
          "name": "stderr",
          "text": [
            "/usr/local/lib/python3.10/dist-packages/sklearn/base.py:493: UserWarning: X does not have valid feature names, but RandomForestClassifier was fitted with feature names\n",
            "  warnings.warn(\n"
          ]
        }
      ]
    },
    {
      "cell_type": "code",
      "source": [
        "# prompt: here i asked the output should be displayed dynamically but when the input is give by the user the output should be displayed\n",
        "\n",
        "import numpy as np\n",
        "import pandas as pd\n",
        "from sklearn.model_selection import train_test_split\n",
        "from sklearn.ensemble import RandomForestClassifier\n",
        "from sklearn.preprocessing import LabelEncoder\n",
        "import random\n",
        "\n",
        "# Load the dataset\n",
        "data = pd.read_csv('//content//dataset.csv')\n",
        "data = data.dropna()\n",
        "data = data.drop_duplicates()\n",
        "data = data.dropna(subset=['N','P','K','temperature','humidity','ph','rainfall','elevation','slope','aspect','water_holding_capacity','wind_speed','solar_radiation','ec','zn','soil_texture'])\n",
        "data = data.dropna(axis=1)\n",
        "data = data.dropna(axis=1, how='all')\n",
        "\n",
        "categorical_cols = data.select_dtypes(include=['object']).columns\n",
        "encoder = LabelEncoder()\n",
        "for col in categorical_cols:\n",
        "    if col in ['aspect', 'soil_texture']:\n",
        "        encoder = LabelEncoder()\n",
        "        data[col] = encoder.fit_transform(data[col])\n",
        "\n",
        "# Prepare the data\n",
        "X = data[['N', 'P', 'K', 'temperature', 'humidity', 'ph', 'rainfall','elevation','slope','aspect','water_holding_capacity','wind_speed','solar_radiation','ec','zn','soil_texture']]\n",
        "y = data['label']\n",
        "X_train, X_test, y_train, y_test = train_test_split(X, y, test_size=0.2, random_state=42)\n",
        "\n",
        "# Train the model\n",
        "model = RandomForestClassifier()\n",
        "model.fit(X_train, y_train)\n",
        "\n",
        "# Function to predict crop type dynamically based on user input\n",
        "def predict_crop_dynamically(N, P, K, temperature, humidity, ph, rainfall, elevation, slope, aspect, water_holding_capacity, wind_speed, solar_radiation, ec, zn, soil_texture):\n",
        "    input_data = [[N, P, K, temperature, humidity, ph, rainfall, elevation, slope, aspect, water_holding_capacity, wind_speed, solar_radiation, ec, zn, soil_texture]]\n",
        "    prediction = model.predict(input_data)[0]\n",
        "    print(f\"Input values: N={N}, P={P}, K={K}, temperature={temperature}, humidity={humidity}, ph={ph}, rainfall={rainfall}, elevation={elevation}, slope={slope}, aspect={aspect}, water_holding_capacity={water_holding_capacity}, wind_speed={wind_speed}, solar_radiation={solar_radiation}, ec={ec}, zn={zn}, soil_texture={soil_texture}\")\n",
        "    print(f\"Recommended crop: {prediction}\")\n",
        "\n",
        "# Example usage (you can replace these with user inputs)\n",
        "N = 70 #@param {type:\"number\"}\n",
        "P = 45 #@param {type:\"number\"}\n",
        "K = 10 #@param {type:\"number\"}\n",
        "temperature = 50 #@param {type:\"number\"}\n",
        "humidity = 80 #@param {type:\"number\"}\n",
        "ph = 6.5 #@param {type:\"number\"}\n",
        "rainfall = 100 #@param {type:\"number\"}\n",
        "elevation = 10 #@param {type:\"number\"}\n",
        "slope = 5 #@param {type:\"number\"}\n",
        "aspect = 2 #@param {type:\"number\"}\n",
        "water_holding_capacity = 60 #@param {type:\"number\"}\n",
        "wind_speed = 15 #@param {type:\"number\"}\n",
        "solar_radiation = 1000 #@param {type:\"number\"}\n",
        "ec = 0.8 #@param {type:\"number\"}\n",
        "zn = 2 #@param {type:\"number\"}\n",
        "soil_texture = 1 #@param {type:\"number\"}\n",
        "\n",
        "\n",
        "predict_crop_dynamically(N, P, K, temperature, humidity, ph, rainfall, elevation, slope, aspect, water_holding_capacity, wind_speed, solar_radiation, ec, zn, soil_texture)"
      ],
      "metadata": {
        "colab": {
          "base_uri": "https://localhost:8080/"
        },
        "id": "--mAQ_ZQ2qtK",
        "outputId": "33c94bb5-7a0b-447c-fd18-d331d3a9ef72"
      },
      "execution_count": 9,
      "outputs": [
        {
          "output_type": "stream",
          "name": "stdout",
          "text": [
            "Input values: N=70, P=45, K=10, temperature=50, humidity=80, ph=6.5, rainfall=100, elevation=10, slope=5, aspect=2, water_holding_capacity=60, wind_speed=15, solar_radiation=1000, ec=0.8, zn=2, soil_texture=1\n",
            "Recommended crop: Barley\n"
          ]
        },
        {
          "output_type": "stream",
          "name": "stderr",
          "text": [
            "/usr/local/lib/python3.10/dist-packages/sklearn/base.py:493: UserWarning: X does not have valid feature names, but RandomForestClassifier was fitted with feature names\n",
            "  warnings.warn(\n"
          ]
        }
      ]
    }
  ]
}